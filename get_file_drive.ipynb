{
 "cells": [
  {
   "cell_type": "code",
   "execution_count": 0,
   "metadata": {
    "colab": {
     "autoexec": {
      "startup": false,
      "wait_interval": 0
     }
    },
    "colab_type": "code",
    "id": "FZxzUfWlIWB1"
   },
   "outputs": [],
   "source": [
    "# [1] GET INFORMATION OF MACHINE\n",
    "from tensorflow.python.client import device_lib\n",
    "device_lib.list_local_devices()"
   ]
  },
  {
   "cell_type": "code",
   "execution_count": 0,
   "metadata": {
    "colab": {
     "autoexec": {
      "startup": false,
      "wait_interval": 0
     }
    },
    "colab_type": "code",
    "id": "hrqLO_LIM7MR"
   },
   "outputs": [],
   "source": []
  },
  {
   "cell_type": "code",
   "execution_count": 0,
   "metadata": {
    "colab": {
     "autoexec": {
      "startup": false,
      "wait_interval": 0
     }
    },
    "colab_type": "code",
    "id": "dEutKn5dIXxq"
   },
   "outputs": [],
   "source": [
    "from google.colab import auth\n",
    "from googleapiclient.discovery import build\n",
    "import io , requests, os\n",
    "import sys\n",
    "auth.authenticate_user()\n",
    "from googleapiclient.discovery import build\n",
    "drive_service = build('drive', 'v3')"
   ]
  },
  {
   "cell_type": "code",
   "execution_count": 0,
   "metadata": {
    "colab": {
     "autoexec": {
      "startup": false,
      "wait_interval": 0
     }
    },
    "colab_type": "code",
    "id": "cDHkOz94GTzA"
   },
   "outputs": [],
   "source": [
    "def get_files_from_parent(parent_id):\n",
    "  page_token = None\n",
    "  folder_array = dict()\n",
    "  query = \"'%s' in parents\" % parent_id\n",
    "  while True:\n",
    "      response = drive_service.files().list(q=query,\n",
    "                                          spaces='drive',\n",
    "                                          fields='nextPageToken, files(id, name)',\n",
    "                                          pageToken=page_token).execute()\n",
    "      for file in response.get('files', []):\n",
    "          # Process change\n",
    "          folder_array.update({file.get('name'):file.get('id')})\n",
    "      page_token = response.get('nextPageToken', None)\n",
    "      if page_token is None:\n",
    "          break\n",
    "  return folder_array"
   ]
  },
  {
   "cell_type": "code",
   "execution_count": 0,
   "metadata": {
    "colab": {
     "autoexec": {
      "startup": false,
      "wait_interval": 0
     }
    },
    "colab_type": "code",
    "id": "g6cT43-cGXeS"
   },
   "outputs": [],
   "source": [
    "def get_file_buffer(file_id, verbose=0):\n",
    "  from googleapiclient.http import MediaIoBaseDownload\n",
    "  request = drive_service.files().get_media(fileId=file_id)\n",
    "  downloaded = io.BytesIO()\n",
    "  downloader = MediaIoBaseDownload(downloaded, request)\n",
    "  done = False\n",
    "  while done is False:\n",
    "      # _ is a placeholder for a progress object that we ignore.\n",
    "      # (Our file is small, so we skip reporting progress.)\n",
    "      progress, done = downloader.next_chunk()\n",
    "      if verbose:\n",
    "        sys.stdout.flush()\n",
    "        sys.stdout.write('\\r')\n",
    "        percentage_done = progress.resumable_progress * 100/progress.total_size\n",
    "        sys.stdout.write(\"[%-100s] %d%%\" % ('='*int(percentage_done), int(percentage_done)))\n",
    "  downloaded.seek(0)\n",
    "  return downloaded\n"
   ]
  },
  {
   "cell_type": "code",
   "execution_count": 0,
   "metadata": {
    "colab": {
     "autoexec": {
      "startup": false,
      "wait_interval": 0
     }
    },
    "colab_type": "code",
    "id": "7vE3CY42GgZ3"
   },
   "outputs": [],
   "source": [
    "def downloads_files_and_data(input_file_meta):\n",
    "  SOURCE_FOLDER='/content'\n",
    "  print('********** Download Logics Files **********')\n",
    "  for file, id in input_file_meta.items():\n",
    "    # If file is data -> need to go inside and download\n",
    "    search_files(file, id, SOURCE_FOLDER)"
   ]
  },
  {
   "cell_type": "code",
   "execution_count": 0,
   "metadata": {
    "colab": {
     "autoexec": {
      "startup": false,
      "wait_interval": 0
     }
    },
    "colab_type": "code",
    "id": "KBZXwf9NqarM"
   },
   "outputs": [],
   "source": [
    "def search_files(name, f_id, path):\n",
    "  sub = get_files_from_parent(f_id)\n",
    "  if len(sub) == 0:\n",
    "    if not (os.path.exists(path)):  \n",
    "      os.makedirs(path)\n",
    "    try:\n",
    "      downloaded = get_file_buffer(f_id, verbose=1)\n",
    "      dest_data = os.path.join(path, name)\n",
    "      print(\"processing %s data\" % (path+\"/\"+name))\n",
    "      with open(dest_data, \"wb\") as out:\n",
    "        out.write(downloaded.read())\n",
    "        print(\"Done data %s\" % dest_data)\n",
    "    except ValueError:\n",
    "      print('SOME_THING_WENT_WRONG', ValueError)\n",
    "  else:\n",
    "    for n, i in sub.items():\n",
    "      search_files(n, i, path+\"/\"+name )"
   ]
  },
  {
   "cell_type": "code",
   "execution_count": 0,
   "metadata": {
    "colab": {
     "autoexec": {
      "startup": false,
      "wait_interval": 0
     }
    },
    "colab_type": "code",
    "id": "9UzCWOYVB1ak"
   },
   "outputs": [],
   "source": [
    "def get_parent_folder(folder_name=\"Colab Notebooks\"):\n",
    "  page_token = None\n",
    "  folder_array = []\n",
    "  query = \"name='%s' and mimeType='application/vnd.google-apps.folder'\" % folder_name\n",
    "  while True:\n",
    "      response = drive_service.files().list(q=query,\n",
    "                                          spaces='drive',\n",
    "                                          fields='nextPageToken, files(id, name)',\n",
    "                                          pageToken=page_token).execute()\n",
    "      for file in response.get('files', []):\n",
    "          # Process change\n",
    "          #print (file.get('name'), file.get('id'))\n",
    "          folder_array.append({\"name\" : file.get('name'), \"id\" : file.get('id')})\n",
    "      page_token = response.get('nextPageToken', None)\n",
    "      if page_token is None:\n",
    "          break\n",
    "  return folder_array\n"
   ]
  },
  {
   "cell_type": "code",
   "execution_count": 0,
   "metadata": {
    "colab": {
     "autoexec": {
      "startup": false,
      "wait_interval": 0
     }
    },
    "colab_type": "code",
    "id": "YKwcp9rUHBAh"
   },
   "outputs": [],
   "source": [
    "code_lab_folder = get_parent_folder()\n",
    "sub_folder = get_files_from_parent(code_lab_folder[0]['id'])\n",
    "print('code_lab' + str(code_lab_folder))\n",
    "print('sub_folder ' + str(sub_folder))\n",
    "a = list(sub_folder.keys())\n",
    "print('Available folder: ')\n",
    "for i in range(len(a)):\n",
    "  print('---> '+str(i+1)+'. '+str(a[i]))\n",
    "inp = int(input('Choose folder: '))\n",
    "input_file_meta = get_files_from_parent(sub_folder[a[inp-1]])  \n",
    "  \n",
    "downloads_files_and_data(input_file_meta)"
   ]
  },
  {
   "cell_type": "code",
   "execution_count": 0,
   "metadata": {
    "colab": {
     "autoexec": {
      "startup": false,
      "wait_interval": 0
     }
    },
    "colab_type": "code",
    "id": "Eyv1HJSDiDtY"
   },
   "outputs": [],
   "source": [
    "# sample running a python file from jupyter notebook\n",
    "# !python softmax_tf.py"
   ]
  }
 ],
 "metadata": {
  "accelerator": "GPU",
  "colab": {
   "collapsed_sections": [],
   "default_view": {},
   "name": "get_file_drive.ipynb",
   "private_outputs": true,
   "provenance": [],
   "version": "0.3.2",
   "views": {}
  },
  "kernelspec": {
   "display_name": "Python 3",
   "language": "python",
   "name": "python3"
  },
  "language_info": {
   "codemirror_mode": {
    "name": "ipython",
    "version": 3
   },
   "file_extension": ".py",
   "mimetype": "text/x-python",
   "name": "python",
   "nbconvert_exporter": "python",
   "pygments_lexer": "ipython3",
   "version": "3.5.2"
  }
 },
 "nbformat": 4,
 "nbformat_minor": 1
}
